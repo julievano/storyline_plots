{
 "cells": [
  {
   "cell_type": "code",
   "execution_count": 424,
   "metadata": {
    "collapsed": false
   },
   "outputs": [],
   "source": [
    "%matplotlib inline\n",
    "\n",
    "import matplotlib.pyplot as plt\n",
    "import numpy as np\n",
    "import pandas as pd\n",
    "from datetime import date\n",
    "\n",
    "pd.set_option('display.max_rows', 10)"
   ]
  },
  {
   "cell_type": "code",
   "execution_count": 488,
   "metadata": {
    "collapsed": false
   },
   "outputs": [
    {
     "data": {
      "text/plain": [
       "'/Users/vano/Dropbox/raid/rmjoc2/bcsd/CCSM4_rcp85_BCSD_VIC_P1-LIB-biascorrected_streamflow-provisional_0.3.csv'"
      ]
     },
     "execution_count": 488,
     "metadata": {},
     "output_type": "execute_result"
    }
   ],
   "source": [
    "#Location of files\n",
    "filepath = '/Users/vano/Dropbox/raid/rmjoc2/%s.csv'\n",
    "location = 'nrni/NRNI_Flows_1929-2008_Corrected_08-2016'\n",
    "filepath%location \n",
    "\n",
    "location2 = 'bcsd/CCSM4_rcp85_BCSD_VIC_P1-LIB-biascorrected_streamflow-provisional_0.3'\n",
    "filepath%location2 \n",
    "\n",
    "#eventually set up to do path elsewhere:\n",
    "#hydra:/raid3/oriana/bpa/future/VIC/calib_inverse/bcsd/{GCM}/{RCP}/deliverables/"
   ]
  },
  {
   "cell_type": "code",
   "execution_count": 489,
   "metadata": {
    "collapsed": false
   },
   "outputs": [
    {
     "data": {
      "text/html": [
       "<div>\n",
       "<table border=\"1\" class=\"dataframe\">\n",
       "  <thead>\n",
       "    <tr style=\"text-align: right;\">\n",
       "      <th></th>\n",
       "      <th>biascorrected_streamflow</th>\n",
       "    </tr>\n",
       "    <tr>\n",
       "      <th>date</th>\n",
       "      <th></th>\n",
       "    </tr>\n",
       "  </thead>\n",
       "  <tbody>\n",
       "    <tr>\n",
       "      <th>1950-01-01</th>\n",
       "      <td>1759.640</td>\n",
       "    </tr>\n",
       "    <tr>\n",
       "      <th>1950-01-02</th>\n",
       "      <td>2819.746</td>\n",
       "    </tr>\n",
       "    <tr>\n",
       "      <th>1950-01-03</th>\n",
       "      <td>2719.094</td>\n",
       "    </tr>\n",
       "    <tr>\n",
       "      <th>1950-01-04</th>\n",
       "      <td>3105.675</td>\n",
       "    </tr>\n",
       "    <tr>\n",
       "      <th>1950-01-05</th>\n",
       "      <td>2613.186</td>\n",
       "    </tr>\n",
       "  </tbody>\n",
       "</table>\n",
       "</div>"
      ],
      "text/plain": [
       "            biascorrected_streamflow\n",
       "date                                \n",
       "1950-01-01                  1759.640\n",
       "1950-01-02                  2819.746\n",
       "1950-01-03                  2719.094\n",
       "1950-01-04                  3105.675\n",
       "1950-01-05                  2613.186"
      ]
     },
     "execution_count": 489,
     "metadata": {},
     "output_type": "execute_result"
    }
   ],
   "source": [
    "df = pd.read_csv(filepath%(location), skiprows=range(1, 7), usecols=range(1,199))\n",
    "nrni=df['LIB5N']\n",
    "\n",
    "df2 = pd.read_csv(filepath%(location2), comment='#', index_col=0, parse_dates=True) \n",
    "fut=df2['biascorrected_streamflow']\n",
    "df2.head()"
   ]
  },
  {
   "cell_type": "code",
   "execution_count": 420,
   "metadata": {
    "collapsed": false
   },
   "outputs": [
    {
     "name": "stdout",
     "output_type": "stream",
     "text": [
      "# dataset_title : BPA TIP 304: Predicting the Hydrologic Response of the Columbia River System to Climate Change\r\n",
      "# dataset_version : provisional_0.3\r\n",
      "# dataset_restrictions : Provisional data: Not for distribution beyond RMJOC. To be used for evaluation purposes only. Not valid after June 30, 2016 or the release of the next version, whichever is earlier.\r\n",
      "# dataset_contact : Bart Nijssen, nijssen@uw.edu, UW Hydro | Computational Hydrology, http://www.hydro.washington.edu\r\n"
     ]
    }
   ],
   "source": [
    "!head -n 4 '/Users/vano/Dropbox/raid/rmjoc2/bcsd/CCSM4_rcp85_BCSD_VIC_P1-LIB-biascorrected_streamflow-provisional_0.3.csv'"
   ]
  },
  {
   "cell_type": "code",
   "execution_count": 492,
   "metadata": {
    "collapsed": false
   },
   "outputs": [
    {
     "data": {
      "text/plain": [
       "1928-07-01    37013\n",
       "1928-07-02    40506\n",
       "1928-07-03    41185\n",
       "1928-07-04    39827\n",
       "1928-07-05    38371\n",
       "              ...  \n",
       "2008-09-26     6601\n",
       "2008-09-27     5310\n",
       "2008-09-28     6172\n",
       "2008-09-29     5955\n",
       "2008-09-30     5088\n",
       "Freq: D, dtype: float64"
      ]
     },
     "execution_count": 492,
     "metadata": {},
     "output_type": "execute_result"
    }
   ],
   "source": [
    "#note: nrni dataset had funny date assignment, since only have to read in once, manually assigning them\n",
    "rng = pd.date_range('07/1/1928', periods=29312, freq='D')\n",
    "ts = pd.Series(nrni.values, index=rng)  \n",
    "ts = ts.astype(np.float)\n",
    "ts"
   ]
  },
  {
   "cell_type": "code",
   "execution_count": 428,
   "metadata": {
    "collapsed": false
   },
   "outputs": [
    {
     "data": {
      "text/plain": [
       "dtype('float64')"
      ]
     },
     "execution_count": 428,
     "metadata": {},
     "output_type": "execute_result"
    }
   ],
   "source": [
    "ts.describe()\n",
    "ts.dtype"
   ]
  },
  {
   "cell_type": "code",
   "execution_count": null,
   "metadata": {
    "collapsed": true
   },
   "outputs": [],
   "source": [
    "class Series(object):\n",
    "    \n",
    "    ...\n",
    "    \n",
    "    def plot(self, *args):\n",
    "        \n",
    "        plt.plot(self.index, self.values, *args)"
   ]
  },
  {
   "cell_type": "code",
   "execution_count": 430,
   "metadata": {
    "collapsed": false
   },
   "outputs": [
    {
     "data": {
      "text/plain": [
       "<matplotlib.axes._subplots.AxesSubplot at 0x1ff7ba190>"
      ]
     },
     "execution_count": 430,
     "metadata": {},
     "output_type": "execute_result"
    },
    {
     "data": {
      "image/png": "[encoded data removed]",
      "text/plain": [
       "<matplotlib.figure.Figure at 0x200109050>"
      ]
     },
     "metadata": {},
     "output_type": "display_data"
    }
   ],
   "source": [
    "ts['1980':'1999'].plot()"
   ]
  },
  {
   "cell_type": "code",
   "execution_count": 439,
   "metadata": {
    "collapsed": true
   },
   "outputs": [],
   "source": [
    "# helper functions for finding day of water year and water year\n",
    "\n",
    "def water_day(indate):\n",
    "    doy = indate.timetuple().tm_yday\n",
    "    if doy >= 274:\n",
    "        outdate = doy - 274\n",
    "    else:\n",
    "        outdate = doy + 91\n",
    "    return outdate\n",
    "\n",
    "def water_year(year, month):\n",
    "    if month > 9:\n",
    "        return year + 1\n",
    "    return year"
   ]
  },
  {
   "cell_type": "code",
   "execution_count": 431,
   "metadata": {
    "collapsed": false
   },
   "outputs": [
    {
     "data": {
      "text/plain": [
       "(0, 366)"
      ]
     },
     "execution_count": 431,
     "metadata": {},
     "output_type": "execute_result"
    },
    {
     "data": {
      "image/png": "[encoded data removed]",
      "text/plain": [
       "<matplotlib.figure.Figure at 0x1db0917d0>"
      ]
     },
     "metadata": {},
     "output_type": "display_data"
    }
   ],
   "source": [
    "fig, ax = plt.subplots(1, 1, figsize=(5, 5))\n",
    "\n",
    "ts.groupby(lambda x:water_day(x)).mean().plot(style='k-', ax=ax)\n",
    "ts.groupby(lambda x:water_day(x)).min().plot(style='k-', ax=ax)\n",
    "ts.groupby(lambda x:water_day(x)).max().plot(style='k-', ax=ax)\n",
    "ax.set_ylabel('cfs')\n",
    "ax.set_xlabel('Day of water year')\n",
    "plt.xlim((0,366))"
   ]
  },
  {
   "cell_type": "code",
   "execution_count": 442,
   "metadata": {
    "collapsed": false
   },
   "outputs": [
    {
     "data": {
      "text/html": [
       "<div>\n",
       "<table border=\"1\" class=\"dataframe\">\n",
       "  <thead>\n",
       "    <tr style=\"text-align: right;\">\n",
       "      <th></th>\n",
       "      <th>streamflow</th>\n",
       "      <th>wyear</th>\n",
       "      <th>doy</th>\n",
       "    </tr>\n",
       "  </thead>\n",
       "  <tbody>\n",
       "    <tr>\n",
       "      <th>1928-07-01</th>\n",
       "      <td>37013</td>\n",
       "      <td>1928</td>\n",
       "      <td>274</td>\n",
       "    </tr>\n",
       "    <tr>\n",
       "      <th>1928-07-02</th>\n",
       "      <td>40506</td>\n",
       "      <td>1928</td>\n",
       "      <td>275</td>\n",
       "    </tr>\n",
       "    <tr>\n",
       "      <th>1928-07-03</th>\n",
       "      <td>41185</td>\n",
       "      <td>1928</td>\n",
       "      <td>276</td>\n",
       "    </tr>\n",
       "    <tr>\n",
       "      <th>1928-07-04</th>\n",
       "      <td>39827</td>\n",
       "      <td>1928</td>\n",
       "      <td>277</td>\n",
       "    </tr>\n",
       "    <tr>\n",
       "      <th>1928-07-05</th>\n",
       "      <td>38371</td>\n",
       "      <td>1928</td>\n",
       "      <td>278</td>\n",
       "    </tr>\n",
       "    <tr>\n",
       "      <th>...</th>\n",
       "      <td>...</td>\n",
       "      <td>...</td>\n",
       "      <td>...</td>\n",
       "    </tr>\n",
       "    <tr>\n",
       "      <th>2008-09-26</th>\n",
       "      <td>6601</td>\n",
       "      <td>2008</td>\n",
       "      <td>361</td>\n",
       "    </tr>\n",
       "    <tr>\n",
       "      <th>2008-09-27</th>\n",
       "      <td>5310</td>\n",
       "      <td>2008</td>\n",
       "      <td>362</td>\n",
       "    </tr>\n",
       "    <tr>\n",
       "      <th>2008-09-28</th>\n",
       "      <td>6172</td>\n",
       "      <td>2008</td>\n",
       "      <td>363</td>\n",
       "    </tr>\n",
       "    <tr>\n",
       "      <th>2008-09-29</th>\n",
       "      <td>5955</td>\n",
       "      <td>2008</td>\n",
       "      <td>364</td>\n",
       "    </tr>\n",
       "    <tr>\n",
       "      <th>2008-09-30</th>\n",
       "      <td>5088</td>\n",
       "      <td>2008</td>\n",
       "      <td>0</td>\n",
       "    </tr>\n",
       "  </tbody>\n",
       "</table>\n",
       "<p>29312 rows × 3 columns</p>\n",
       "</div>"
      ],
      "text/plain": [
       "            streamflow  wyear  doy\n",
       "1928-07-01       37013   1928  274\n",
       "1928-07-02       40506   1928  275\n",
       "1928-07-03       41185   1928  276\n",
       "1928-07-04       39827   1928  277\n",
       "1928-07-05       38371   1928  278\n",
       "...                ...    ...  ...\n",
       "2008-09-26        6601   2008  361\n",
       "2008-09-27        5310   2008  362\n",
       "2008-09-28        6172   2008  363\n",
       "2008-09-29        5955   2008  364\n",
       "2008-09-30        5088   2008    0\n",
       "\n",
       "[29312 rows x 3 columns]"
      ]
     },
     "execution_count": 442,
     "metadata": {},
     "output_type": "execute_result"
    }
   ],
   "source": [
    "tdf = ts.to_frame('streamflow')\n",
    "tdf['wyear'] = [water_year(i.year, i.month) for i in tdf.index]\n",
    "tdf['doy'] = [water_day(i) for i in tdf.index]\n",
    "tdf"
   ]
  },
  {
   "cell_type": "code",
   "execution_count": 454,
   "metadata": {
    "collapsed": false
   },
   "outputs": [],
   "source": [
    "twy = pd.pivot_table(tdf, index='doy', columns='wyear')['streamflow']"
   ]
  },
  {
   "cell_type": "code",
   "execution_count": 455,
   "metadata": {
    "collapsed": false
   },
   "outputs": [
    {
     "data": {
      "text/html": [
       "<div>\n",
       "<table border=\"1\" class=\"dataframe\">\n",
       "  <thead>\n",
       "    <tr style=\"text-align: right;\">\n",
       "      <th>wyear</th>\n",
       "      <th>1928</th>\n",
       "      <th>1929</th>\n",
       "      <th>1930</th>\n",
       "      <th>1931</th>\n",
       "      <th>1932</th>\n",
       "      <th>1933</th>\n",
       "      <th>1934</th>\n",
       "      <th>1935</th>\n",
       "      <th>1936</th>\n",
       "      <th>1937</th>\n",
       "      <th>...</th>\n",
       "      <th>1999</th>\n",
       "      <th>2000</th>\n",
       "      <th>2001</th>\n",
       "      <th>2002</th>\n",
       "      <th>2003</th>\n",
       "      <th>2004</th>\n",
       "      <th>2005</th>\n",
       "      <th>2006</th>\n",
       "      <th>2007</th>\n",
       "      <th>2008</th>\n",
       "    </tr>\n",
       "    <tr>\n",
       "      <th>doy</th>\n",
       "      <th></th>\n",
       "      <th></th>\n",
       "      <th></th>\n",
       "      <th></th>\n",
       "      <th></th>\n",
       "      <th></th>\n",
       "      <th></th>\n",
       "      <th></th>\n",
       "      <th></th>\n",
       "      <th></th>\n",
       "      <th></th>\n",
       "      <th></th>\n",
       "      <th></th>\n",
       "      <th></th>\n",
       "      <th></th>\n",
       "      <th></th>\n",
       "      <th></th>\n",
       "      <th></th>\n",
       "      <th></th>\n",
       "      <th></th>\n",
       "      <th></th>\n",
       "    </tr>\n",
       "  </thead>\n",
       "  <tbody>\n",
       "    <tr>\n",
       "      <th>0</th>\n",
       "      <td>4102</td>\n",
       "      <td>NaN</td>\n",
       "      <td>3582</td>\n",
       "      <td>4185</td>\n",
       "      <td>4173</td>\n",
       "      <td>NaN</td>\n",
       "      <td>8143</td>\n",
       "      <td>3805</td>\n",
       "      <td>3794.5</td>\n",
       "      <td>NaN</td>\n",
       "      <td>...</td>\n",
       "      <td>6918</td>\n",
       "      <td>5751</td>\n",
       "      <td>NaN</td>\n",
       "      <td>3090</td>\n",
       "      <td>4688</td>\n",
       "      <td>6495</td>\n",
       "      <td>NaN</td>\n",
       "      <td>12906</td>\n",
       "      <td>4081</td>\n",
       "      <td>4520</td>\n",
       "    </tr>\n",
       "    <tr>\n",
       "      <th>1</th>\n",
       "      <td>NaN</td>\n",
       "      <td>4010</td>\n",
       "      <td>3582</td>\n",
       "      <td>4168</td>\n",
       "      <td>3671</td>\n",
       "      <td>4312</td>\n",
       "      <td>8040</td>\n",
       "      <td>3789</td>\n",
       "      <td>4076.0</td>\n",
       "      <td>3211</td>\n",
       "      <td>...</td>\n",
       "      <td>1390</td>\n",
       "      <td>3673</td>\n",
       "      <td>5979</td>\n",
       "      <td>1859</td>\n",
       "      <td>4255</td>\n",
       "      <td>3543</td>\n",
       "      <td>7366</td>\n",
       "      <td>13915</td>\n",
       "      <td>4823</td>\n",
       "      <td>4595</td>\n",
       "    </tr>\n",
       "    <tr>\n",
       "      <th>2</th>\n",
       "      <td>NaN</td>\n",
       "      <td>4010</td>\n",
       "      <td>3582</td>\n",
       "      <td>4133</td>\n",
       "      <td>3628</td>\n",
       "      <td>4312</td>\n",
       "      <td>7920</td>\n",
       "      <td>3815</td>\n",
       "      <td>3997.0</td>\n",
       "      <td>3235</td>\n",
       "      <td>...</td>\n",
       "      <td>5011</td>\n",
       "      <td>4583</td>\n",
       "      <td>5147</td>\n",
       "      <td>3100</td>\n",
       "      <td>4261</td>\n",
       "      <td>3125</td>\n",
       "      <td>8258</td>\n",
       "      <td>13854</td>\n",
       "      <td>4829</td>\n",
       "      <td>5649</td>\n",
       "    </tr>\n",
       "    <tr>\n",
       "      <th>3</th>\n",
       "      <td>NaN</td>\n",
       "      <td>4257</td>\n",
       "      <td>3582</td>\n",
       "      <td>4099</td>\n",
       "      <td>3527</td>\n",
       "      <td>4245</td>\n",
       "      <td>8092</td>\n",
       "      <td>3789</td>\n",
       "      <td>3997.0</td>\n",
       "      <td>3302</td>\n",
       "      <td>...</td>\n",
       "      <td>3746</td>\n",
       "      <td>5718</td>\n",
       "      <td>5147</td>\n",
       "      <td>2278</td>\n",
       "      <td>5338</td>\n",
       "      <td>3968</td>\n",
       "      <td>7818</td>\n",
       "      <td>10467</td>\n",
       "      <td>3767</td>\n",
       "      <td>6493</td>\n",
       "    </tr>\n",
       "    <tr>\n",
       "      <th>4</th>\n",
       "      <td>NaN</td>\n",
       "      <td>4257</td>\n",
       "      <td>3582</td>\n",
       "      <td>4168</td>\n",
       "      <td>3517</td>\n",
       "      <td>4245</td>\n",
       "      <td>8281</td>\n",
       "      <td>3704</td>\n",
       "      <td>3935.0</td>\n",
       "      <td>3312</td>\n",
       "      <td>...</td>\n",
       "      <td>4591</td>\n",
       "      <td>5273</td>\n",
       "      <td>5563</td>\n",
       "      <td>3100</td>\n",
       "      <td>4473</td>\n",
       "      <td>3235</td>\n",
       "      <td>7046</td>\n",
       "      <td>9189</td>\n",
       "      <td>4189</td>\n",
       "      <td>3541</td>\n",
       "    </tr>\n",
       "    <tr>\n",
       "      <th>...</th>\n",
       "      <td>...</td>\n",
       "      <td>...</td>\n",
       "      <td>...</td>\n",
       "      <td>...</td>\n",
       "      <td>...</td>\n",
       "      <td>...</td>\n",
       "      <td>...</td>\n",
       "      <td>...</td>\n",
       "      <td>...</td>\n",
       "      <td>...</td>\n",
       "      <td>...</td>\n",
       "      <td>...</td>\n",
       "      <td>...</td>\n",
       "      <td>...</td>\n",
       "      <td>...</td>\n",
       "      <td>...</td>\n",
       "      <td>...</td>\n",
       "      <td>...</td>\n",
       "      <td>...</td>\n",
       "      <td>...</td>\n",
       "      <td>...</td>\n",
       "    </tr>\n",
       "    <tr>\n",
       "      <th>360</th>\n",
       "      <td>4351</td>\n",
       "      <td>4525</td>\n",
       "      <td>4822</td>\n",
       "      <td>4113</td>\n",
       "      <td>4874</td>\n",
       "      <td>7569</td>\n",
       "      <td>4339</td>\n",
       "      <td>4595</td>\n",
       "      <td>3609.0</td>\n",
       "      <td>4291</td>\n",
       "      <td>...</td>\n",
       "      <td>7000</td>\n",
       "      <td>5578</td>\n",
       "      <td>4537</td>\n",
       "      <td>4679</td>\n",
       "      <td>4928</td>\n",
       "      <td>11345</td>\n",
       "      <td>6812</td>\n",
       "      <td>5546</td>\n",
       "      <td>3851</td>\n",
       "      <td>5743</td>\n",
       "    </tr>\n",
       "    <tr>\n",
       "      <th>361</th>\n",
       "      <td>4351</td>\n",
       "      <td>4237</td>\n",
       "      <td>4822</td>\n",
       "      <td>3995</td>\n",
       "      <td>4802</td>\n",
       "      <td>7517</td>\n",
       "      <td>4238</td>\n",
       "      <td>4459</td>\n",
       "      <td>3623.0</td>\n",
       "      <td>4213</td>\n",
       "      <td>...</td>\n",
       "      <td>5525</td>\n",
       "      <td>4948</td>\n",
       "      <td>4123</td>\n",
       "      <td>3590</td>\n",
       "      <td>3878</td>\n",
       "      <td>11791</td>\n",
       "      <td>8665</td>\n",
       "      <td>4167</td>\n",
       "      <td>4280</td>\n",
       "      <td>6601</td>\n",
       "    </tr>\n",
       "    <tr>\n",
       "      <th>362</th>\n",
       "      <td>4351</td>\n",
       "      <td>4237</td>\n",
       "      <td>4668</td>\n",
       "      <td>3928</td>\n",
       "      <td>4730</td>\n",
       "      <td>7449</td>\n",
       "      <td>4137</td>\n",
       "      <td>4393</td>\n",
       "      <td>3561.0</td>\n",
       "      <td>4195</td>\n",
       "      <td>...</td>\n",
       "      <td>5660</td>\n",
       "      <td>5365</td>\n",
       "      <td>2266</td>\n",
       "      <td>3380</td>\n",
       "      <td>4514</td>\n",
       "      <td>9562</td>\n",
       "      <td>2938</td>\n",
       "      <td>4553</td>\n",
       "      <td>4275</td>\n",
       "      <td>5310</td>\n",
       "    </tr>\n",
       "    <tr>\n",
       "      <th>363</th>\n",
       "      <td>4351</td>\n",
       "      <td>4093</td>\n",
       "      <td>4524</td>\n",
       "      <td>3890</td>\n",
       "      <td>4696</td>\n",
       "      <td>7483</td>\n",
       "      <td>4041</td>\n",
       "      <td>4341</td>\n",
       "      <td>3499.0</td>\n",
       "      <td>4065</td>\n",
       "      <td>...</td>\n",
       "      <td>5218</td>\n",
       "      <td>4532</td>\n",
       "      <td>3713</td>\n",
       "      <td>4675</td>\n",
       "      <td>2951</td>\n",
       "      <td>10008</td>\n",
       "      <td>5908</td>\n",
       "      <td>5044</td>\n",
       "      <td>3859</td>\n",
       "      <td>6172</td>\n",
       "    </tr>\n",
       "    <tr>\n",
       "      <th>364</th>\n",
       "      <td>4102</td>\n",
       "      <td>3948</td>\n",
       "      <td>4524</td>\n",
       "      <td>3839</td>\n",
       "      <td>4627</td>\n",
       "      <td>7603</td>\n",
       "      <td>3945</td>\n",
       "      <td>4274</td>\n",
       "      <td>3487.0</td>\n",
       "      <td>4065</td>\n",
       "      <td>...</td>\n",
       "      <td>5903</td>\n",
       "      <td>4538</td>\n",
       "      <td>4132</td>\n",
       "      <td>5975</td>\n",
       "      <td>4325</td>\n",
       "      <td>10454</td>\n",
       "      <td>10480</td>\n",
       "      <td>4359</td>\n",
       "      <td>4488</td>\n",
       "      <td>5955</td>\n",
       "    </tr>\n",
       "  </tbody>\n",
       "</table>\n",
       "<p>365 rows × 81 columns</p>\n",
       "</div>"
      ],
      "text/plain": [
       "wyear  1928  1929  1930  1931  1932  1933  1934  1935    1936  1937  ...   \\\n",
       "doy                                                                  ...    \n",
       "0      4102   NaN  3582  4185  4173   NaN  8143  3805  3794.5   NaN  ...    \n",
       "1       NaN  4010  3582  4168  3671  4312  8040  3789  4076.0  3211  ...    \n",
       "2       NaN  4010  3582  4133  3628  4312  7920  3815  3997.0  3235  ...    \n",
       "3       NaN  4257  3582  4099  3527  4245  8092  3789  3997.0  3302  ...    \n",
       "4       NaN  4257  3582  4168  3517  4245  8281  3704  3935.0  3312  ...    \n",
       "..      ...   ...   ...   ...   ...   ...   ...   ...     ...   ...  ...    \n",
       "360    4351  4525  4822  4113  4874  7569  4339  4595  3609.0  4291  ...    \n",
       "361    4351  4237  4822  3995  4802  7517  4238  4459  3623.0  4213  ...    \n",
       "362    4351  4237  4668  3928  4730  7449  4137  4393  3561.0  4195  ...    \n",
       "363    4351  4093  4524  3890  4696  7483  4041  4341  3499.0  4065  ...    \n",
       "364    4102  3948  4524  3839  4627  7603  3945  4274  3487.0  4065  ...    \n",
       "\n",
       "wyear  1999  2000  2001  2002  2003   2004   2005   2006  2007  2008  \n",
       "doy                                                                   \n",
       "0      6918  5751   NaN  3090  4688   6495    NaN  12906  4081  4520  \n",
       "1      1390  3673  5979  1859  4255   3543   7366  13915  4823  4595  \n",
       "2      5011  4583  5147  3100  4261   3125   8258  13854  4829  5649  \n",
       "3      3746  5718  5147  2278  5338   3968   7818  10467  3767  6493  \n",
       "4      4591  5273  5563  3100  4473   3235   7046   9189  4189  3541  \n",
       "..      ...   ...   ...   ...   ...    ...    ...    ...   ...   ...  \n",
       "360    7000  5578  4537  4679  4928  11345   6812   5546  3851  5743  \n",
       "361    5525  4948  4123  3590  3878  11791   8665   4167  4280  6601  \n",
       "362    5660  5365  2266  3380  4514   9562   2938   4553  4275  5310  \n",
       "363    5218  4532  3713  4675  2951  10008   5908   5044  3859  6172  \n",
       "364    5903  4538  4132  5975  4325  10454  10480   4359  4488  5955  \n",
       "\n",
       "[365 rows x 81 columns]"
      ]
     },
     "execution_count": 455,
     "metadata": {},
     "output_type": "execute_result"
    }
   ],
   "source": [
    "twy"
   ]
  },
  {
   "cell_type": "code",
   "execution_count": 457,
   "metadata": {
    "collapsed": false
   },
   "outputs": [
    {
     "data": {
      "text/plain": [
       "<matplotlib.axes._subplots.AxesSubplot at 0x1db1eda90>"
      ]
     },
     "execution_count": 457,
     "metadata": {},
     "output_type": "execute_result"
    },
    {
     "data": {
      "image/png": "[encoded data removed]",
      "text/plain": [
       "<matplotlib.figure.Figure at 0x202491890>"
      ]
     },
     "metadata": {},
     "output_type": "display_data"
    }
   ],
   "source": [
    "fig, ax = plt.subplots(1, 1, figsize=(5, 5))\n",
    "\n",
    "special_years = [1961, 1981, 1999]\n",
    "\n",
    "twy.plot(c='lightgray', legend=False, ax=ax)\n",
    "\n",
    "twy[special_years].plot(legend=True, ax=ax)\n",
    "\n"
   ]
  },
  {
   "cell_type": "code",
   "execution_count": 462,
   "metadata": {
    "collapsed": false
   },
   "outputs": [
    {
     "data": {
      "text/plain": [
       "[<matplotlib.lines.Line2D at 0x20589cbd0>]"
      ]
     },
     "execution_count": 462,
     "metadata": {},
     "output_type": "execute_result"
    },
    {
     "data": {
      "image/png": "[encoded data removed]",
      "text/plain": [
       "<matplotlib.figure.Figure at 0x203600cd0>"
      ]
     },
     "metadata": {},
     "output_type": "display_data"
    }
   ],
   "source": [
    "#flow duration curve, work in progress\n",
    "x = df.sort_values(by=\"LIB5N\")\n",
    "dailysort=x['LIB5N']\n",
    "dailysort[1:]\n",
    "plt.plot(dailysort[1:].values)  \n",
    "#dailysort[1:].plot.line()"
   ]
  },
  {
   "cell_type": "code",
   "execution_count": 408,
   "metadata": {
    "collapsed": false
   },
   "outputs": [
    {
     "data": {
      "text/html": [
       "<div>\n",
       "<table border=\"1\" class=\"dataframe\">\n",
       "  <thead>\n",
       "    <tr style=\"text-align: right;\">\n",
       "      <th></th>\n",
       "      <th>0</th>\n",
       "    </tr>\n",
       "  </thead>\n",
       "  <tbody>\n",
       "    <tr>\n",
       "      <th>1928-07-31</th>\n",
       "      <td>769629</td>\n",
       "    </tr>\n",
       "    <tr>\n",
       "      <th>...</th>\n",
       "      <td>...</td>\n",
       "    </tr>\n",
       "    <tr>\n",
       "      <th>2008-09-30</th>\n",
       "      <td>180191</td>\n",
       "    </tr>\n",
       "  </tbody>\n",
       "</table>\n",
       "<p>963 rows × 1 columns</p>\n",
       "</div>"
      ],
      "text/plain": [
       "                 0\n",
       "1928-07-31  769629\n",
       "...            ...\n",
       "2008-09-30  180191\n",
       "\n",
       "[963 rows x 1 columns]"
      ]
     },
     "execution_count": 408,
     "metadata": {},
     "output_type": "execute_result"
    }
   ],
   "source": [
    "x = ts.resample('M', how='sum')\n",
    "x"
   ]
  },
  {
   "cell_type": "code",
   "execution_count": 466,
   "metadata": {
    "collapsed": true
   },
   "outputs": [],
   "source": [
    "def apr_thr_aug(m):\n",
    "    if (m >= 4) and (m <= 8):\n",
    "        return True\n",
    "    else:\n",
    "        return False"
   ]
  },
  {
   "cell_type": "code",
   "execution_count": 471,
   "metadata": {
    "collapsed": false
   },
   "outputs": [
    {
     "data": {
      "text/plain": [
       "20794.882701999675"
      ]
     },
     "execution_count": 471,
     "metadata": {},
     "output_type": "execute_result"
    }
   ],
   "source": [
    "ts.groupby(lambda x: apr_thr_aug(x.month)).mean().ix[True]"
   ]
  },
  {
   "cell_type": "code",
   "execution_count": 479,
   "metadata": {
    "collapsed": false
   },
   "outputs": [],
   "source": [
    "tqs = ts.resample('QS-APR', how='sum')"
   ]
  },
  {
   "cell_type": "code",
   "execution_count": 481,
   "metadata": {
    "collapsed": false
   },
   "outputs": [
    {
     "data": {
      "text/plain": [
       "<matplotlib.axes._subplots.AxesSubplot at 0x202491e90>"
      ]
     },
     "execution_count": 481,
     "metadata": {},
     "output_type": "execute_result"
    },
    {
     "data": {
      "image/png": "[encoded data removed]",
      "text/plain": [
       "<matplotlib.figure.Figure at 0x203615c50>"
      ]
     },
     "metadata": {},
     "output_type": "display_data"
    }
   ],
   "source": [
    "tqs[tqs.index.month == 4].plot.hist()"
   ]
  },
  {
   "cell_type": "code",
   "execution_count": 485,
   "metadata": {
    "collapsed": false
   },
   "outputs": [],
   "source": [
    "tmm = ts.resample('1MS', how='sum')"
   ]
  },
  {
   "cell_type": "code",
   "execution_count": 487,
   "metadata": {
    "collapsed": false
   },
   "outputs": [
    {
     "data": {
      "text/plain": [
       "<matplotlib.axes._subplots.AxesSubplot at 0x202513a90>"
      ]
     },
     "execution_count": 487,
     "metadata": {},
     "output_type": "execute_result"
    },
    {
     "data": {
      "image/png": "[encoded data removed]",
      "text/plain": [
       "<matplotlib.figure.Figure at 0x201b15410>"
      ]
     },
     "metadata": {},
     "output_type": "display_data"
    }
   ],
   "source": [
    "tmm[(tmm.index.month >= 4) & (tmm.index.month <= 8)].resample('AS', how='sum').plot.hist()"
   ]
  },
  {
   "cell_type": "code",
   "execution_count": null,
   "metadata": {
    "collapsed": true
   },
   "outputs": [],
   "source": []
  }
 ],
 "metadata": {
  "kernelspec": {
   "display_name": "Python 2",
   "language": "python",
   "name": "python2"
  },
  "language_info": {
   "codemirror_mode": {
    "name": "ipython",
    "version": 2
   },
   "file_extension": ".py",
   "mimetype": "text/x-python",
   "name": "python",
   "nbconvert_exporter": "python",
   "pygments_lexer": "ipython2",
   "version": "2.7.11"
  }
 },
 "nbformat": 4,
 "nbformat_minor": 0
}
